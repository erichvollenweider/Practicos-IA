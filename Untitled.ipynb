{
 "cells": [
  {
   "cell_type": "code",
   "execution_count": null,
   "id": "0b5d8343-b774-4ab3-a50a-70ef029445a1",
   "metadata": {},
   "outputs": [],
   "source": [
    "import numpy as np                                              # operaciones numéricas (vectores/matrices).\n",
    "import pandas as pd                                             # lectura y manipulación de tablas (DataFrame).\n",
    "import seaborn as sns                                           # gráficos y visualización.\n",
    "import matplotlib.pyplot as plt                                 # gráficos y visualización.\n",
    "\n",
    "from sklearn.preprocessing import StandardScaler                # escalado (media 0, desviación 1) de features.\n",
    "from sklearn.linear_model import LinearRegression               # modelo de regresión lineal ordinaria (OLS).\n",
    "from sklearn.model_selection import train_test_split            # separar dataset en entrenamiento/validación.\n",
    "from sklearn.metrics import mean_squared_error, r2_score        # métricas para evaluar regresión."
   ]
  },
  {
   "cell_type": "code",
   "execution_count": null,
   "id": "2d31c433-6cfe-4354-b7b0-53bd1e10d4cb",
   "metadata": {},
   "outputs": [],
   "source": [
    "# Cargar dataset\n",
    "df = pd.read_csv(\"./Practico2/winequality-red.csv\", sep=\";\")    # este dataset esta separado por \";\"\n",
    "print(df.head())                                                # muestra las primeras filas para verificar que se cargó bien."
   ]
  },
  {
   "cell_type": "code",
   "execution_count": null,
   "id": "fedb91ff-fe34-4170-a1a5-cc401d1177ad",
   "metadata": {},
   "outputs": [],
   "source": [
    "#Distribución de la variable objetivo (calidad del vino)\n",
    "sns.countplot(x=\"quality\", data=df, palette=\"viridis\")\n",
    "plt.title(\"Distribución de la calidad del vino\")\n",
    "plt.xlabel(\"Calidad\")\n",
    "plt.ylabel(\"Frecuencia\")\n",
    "plt.show()"
   ]
  },
  {
   "cell_type": "code",
   "execution_count": null,
   "id": "b66d9519-ee62-476c-8484-5fcc24af4617",
   "metadata": {},
   "outputs": [],
   "source": [
    "#Matriz de correlación\n",
    "plt.figure(figsize=(10, 8))\n",
    "sns.heatmap(df.corr(), annot=True, cmap=\"coolwarm\", fmt=\".2f\")\n",
    "plt.title(\"Matriz de correlación entre variables\")\n",
    "plt.show()"
   ]
  }
 ],
 "metadata": {
  "kernelspec": {
   "display_name": "Python 3 (ipykernel)",
   "language": "python",
   "name": "python3"
  },
  "language_info": {
   "codemirror_mode": {
    "name": "ipython",
    "version": 3
   },
   "file_extension": ".py",
   "mimetype": "text/x-python",
   "name": "python",
   "nbconvert_exporter": "python",
   "pygments_lexer": "ipython3",
   "version": "3.12.3"
  }
 },
 "nbformat": 4,
 "nbformat_minor": 5
}
